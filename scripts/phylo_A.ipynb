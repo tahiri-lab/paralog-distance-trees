{
 "cells": [
  {
   "cell_type": "code",
   "execution_count": 1,
   "id": "888f36c2-bb4f-439a-9842-e06a9445eae2",
   "metadata": {},
   "outputs": [],
   "source": [
    "#!pip install dendropy\n",
    "#!/usr/bin/python\n",
    "import dendropy\n",
    "from pandas import Series, DataFrame\n",
    "import numpy as np\n",
    "import function_1"
   ]
  },
  {
   "cell_type": "code",
   "execution_count": 2,
   "id": "2e8f3a76-e40d-4c1c-a9bc-91fa32ffef6f",
   "metadata": {},
   "outputs": [],
   "source": [
    "#import dendropy\n",
    "#from pandas import Series, DataFrame\n",
    "#import numpy as np\n",
    "\n",
    "\n",
    "def make_distance_matrix(distances, sort=False):\n",
    "    distances = distances.reset_index().pivot_table(index=0, columns=1, values='distance')\n",
    "    distances.index.name=None\n",
    "    distances.columns.name=None\n",
    "    distances = distances.fillna(distances.T)\n",
    "\n",
    "    missing_rows = [i for i in distances.index if i not in distances.columns]\n",
    "    for row in missing_rows:\n",
    "        distances[row] = distances.loc[row]\n",
    "\n",
    "    missing_columns = [c for c in distances.columns if c not in distances.index]\n",
    "    for column in missing_columns:\n",
    "        distances.loc[column] = distances[column]\n",
    "    \n",
    "    if sort:\n",
    "        distances = distances.sort_index().sort_index(axis=1)\n",
    "    return distances.fillna(0)\n",
    "\n",
    "\n",
    "\n",
    "def d(start, end, distances):\n",
    "    return distances.loc[(start, end), 'distance']\n",
    "\n",
    "\n",
    "\n",
    "def get_distance_dataframe(tree):\n",
    "    pdm = tree.phylogenetic_distance_matrix()\n",
    "    distances = [[*name, distance] for name, distance in zip(pdm.distinct_taxon_pair_iter(), pdm.distances())]\n",
    "    distances = DataFrame(distances)\n",
    "    #print(distances)\n",
    "    \n",
    "    def get_label(node):\n",
    "        return node.label\n",
    "    \n",
    "    distances[0] = distances[0].map(get_label)\n",
    "    distances[1] = distances[1].map(get_label)\n",
    "    \n",
    "    distances = distances.set_index([0, 1])\n",
    "    distances = distances.rename(columns = {2:'distance'})\n",
    "\n",
    "    return distances\n",
    "\n",
    "\n",
    "def get_distance_topology(tree):\n",
    "    pdm = tree.phylogenetic_distance_matrix()\n",
    "    distances = [[*name, distance] for name, distance in zip(pdm.distinct_taxon_pair_iter(), pdm.distances())]\n",
    "    \n",
    "\n",
    "    for pairs in distances:\n",
    "        pairs[2] = pdm.path_edge_count(taxon1 = pairs[0], taxon2 = pairs[1])\n",
    "    \n",
    "    distances = DataFrame(distances)\n",
    "    def get_label(node):\n",
    "        return node.label\n",
    "    \n",
    "    distances[0] = distances[0].map(get_label)\n",
    "    distances[1] = distances[1].map(get_label)\n",
    "    distances = distances.set_index([0, 1])\n",
    "    distances = distances.rename(columns = {2:'distance'})\n",
    "    #distances = DataFrame(distances)\n",
    "    \n",
    "    #print(\"hello\")\n",
    "    return distances\n",
    "\n",
    "\n",
    "\n",
    "def get_ratio(distances1, distances2):\n",
    "    r1 = distances1.loc[common_leaves, common_leaves].sum().sum() / 2\n",
    "    r2 = distances2.loc[common_leaves, common_leaves].sum().sum() / 2\n",
    "    return r1/r2\n",
    "\n",
    "def noisify_distances(distances):\n",
    "    noise = np.triu(1 + np.random.random(distances.shape) / 10).round(2)\n",
    "    noise += noise.T\n",
    "    return distances * noise\n",
    "\n",
    "\n",
    "#def temp_paralog(taxalist):\n",
    "    \n",
    "\n",
    "\n",
    "def get_paralogs(taxa_list1, taxa_list2):\n",
    "    \n",
    "    common_leaves = []\n",
    "    temp_leaves = []\n",
    "    paralogs_species = []\n",
    "    dico_identifier = {}\n",
    "    \n",
    "    CommonLeaves = {}\n",
    "    Paralogs = {}\n",
    "    \n",
    "    for c in taxa_list1:\n",
    "        #This splitting method is not ideal : might not always have the same way to separate specie and gene -> add verification when launching program ?\n",
    "        taxon = c.split(' ')[0]\n",
    "        gene = c.split(' ')[1]\n",
    "        \n",
    "        if taxon in dico_identifier.keys() :\n",
    "            dico_identifier[taxon].append(gene)\n",
    "        else : dico_identifier[taxon] = [gene]\n",
    "\n",
    "        if taxon in temp_leaves :\n",
    "            paralogs_species.append(taxon)\n",
    "            temp_leaves.remove(taxon)\n",
    "            \n",
    "        else :\n",
    "            temp_leaves.append(taxon)\n",
    "\n",
    "    \n",
    "    for d in taxa_list2:\n",
    "        taxon = d.split(' ')[0]\n",
    "        gene = d.split(' ')[1]\n",
    "        \n",
    "        if taxon in dico_identifier.keys() :\n",
    "            dico_identifier[taxon].append(gene)\n",
    "        else : dico_identifier[taxon] = [gene]\n",
    "        \n",
    "        if taxon in temp_leaves :\n",
    "            common_leaves.append(taxon)\n",
    "            temp_leaves.remove(taxon)\n",
    "            \n",
    "        elif taxon in common_leaves :\n",
    "            paralogs_species.append(taxon)\n",
    "            common_leaves.remove(taxon)\n",
    "    \n",
    "    for specie in paralogs_species : Paralogs[specie] = dico_identifier[specie]\n",
    "    for common in common_leaves : CommonLeaves[common] = dico_identifier[common]\n",
    "    \n",
    "    return Paralogs, CommonLeaves\n",
    "            "
   ]
  },
  {
   "cell_type": "code",
   "execution_count": 3,
   "id": "49f7883f",
   "metadata": {},
   "outputs": [],
   "source": [
    "def get_paralogs_variant(taxa1, taxa2, common_leaves, paralogs):\n",
    "    \n",
    "    dict_T1 = {\"Specie\":[], \"Identifier\":[], \"Alias\":[], \"Distance\":[]}\n",
    "    dict_T2 = {\"Specie\":[], \"Identifier\":[], \"Alias\":[], \"Distance\":[]}\n",
    "    \n",
    "    for c in taxa1:\n",
    "        taxon = c.split(' ')[0]\n",
    "        gene = c.split(' ')[1]\n",
    "        dict_T1[\"Specie\"].append(taxon)\n",
    "        dict_T1[\"Identifier\"].append(gene)\n",
    "        dict_T1[\"Alias\"].append('')\n",
    "        dict_T1[\"Distance\"].append(0)\n",
    "    \n",
    "    for d in taxa2:\n",
    "        taxon = d.split(' ')[0]\n",
    "        gene = d.split(' ')[1]\n",
    "        dict_T2[\"Specie\"].append(taxon)\n",
    "        dict_T2[\"Identifier\"].append(gene)\n",
    "        dict_T2[\"Alias\"].append('')\n",
    "        dict_T2[\"Distance\"].append(0)\n",
    "        \n",
    "    temp_common = np.intersect1d(dict_T1[\"Specie\"],dict_T2[\"Specie\"])\n",
    "    for element in temp_common:\n",
    "        if dict_T1[\"Specie\"].count(element) == 1 and dict_T2[\"Specie\"].count(element) == 1:\n",
    "            common_leaves.append(element)\n",
    "        else : paralogs.append(element)\n",
    "    \n",
    "    return dict_T1, dict_T2"
   ]
  },
  {
   "cell_type": "code",
   "execution_count": 4,
   "id": "d684c0a8-e45e-4e16-b32f-c88c00659356",
   "metadata": {},
   "outputs": [],
   "source": [
    "tree1 = dendropy.Tree.get(path='sim_tree_TOPO1', schema='newick', suppress_edge_lengths = False)\n",
    "# or whatever relevant format if not newick\n",
    "tree2 = dendropy.Tree.get(path='sim_tree_TOPO2', schema='newick', suppress_edge_lengths = False)\n",
    "\n"
   ]
  },
  {
   "cell_type": "code",
   "execution_count": 5,
   "id": "85c6b9bc",
   "metadata": {},
   "outputs": [
    {
     "name": "stdout",
     "output_type": "stream",
     "text": [
      "                                                /------------------------ 9 b \n",
      "                        /-----------------------+                             \n",
      "/-----------------------+                       \\------------------------ 50 x\n",
      "|                       |                                                     \n",
      "|                       \\------------------------------------------------ 12 b\n",
      "+                                                                             \n",
      "|                                               /------------------------ 9 a \n",
      "|                       /-----------------------+                             \n",
      "|                       |                       \\------------------------ 12 a\n",
      "\\-----------------------+                                                     \n",
      "                        |                       /------------------------ 67 x\n",
      "                        \\-----------------------+                             \n",
      "                                                \\------------------------ 42 x\n",
      "                                                                              \n",
      "                                                                              \n"
     ]
    }
   ],
   "source": [
    "print(tree1.as_ascii_plot())\n",
    "#essai = tree.phylogenetic_distance_matrix().distinct_taxon_pair_iter()\n",
    "#essai\n",
    "#tree.taxon()"
   ]
  },
  {
   "cell_type": "code",
   "execution_count": 6,
   "id": "a756265b-3109-42ae-a061-62fb80983176",
   "metadata": {},
   "outputs": [
    {
     "ename": "NameError",
     "evalue": "name 'tree' is not defined",
     "output_type": "error",
     "traceback": [
      "\u001b[1;31m---------------------------------------------------------------------------\u001b[0m",
      "\u001b[1;31mNameError\u001b[0m                                 Traceback (most recent call last)",
      "Cell \u001b[1;32mIn[6], line 3\u001b[0m\n\u001b[0;32m      1\u001b[0m \u001b[38;5;66;03m#print(tree.as_ascii_plot())\u001b[39;00m\n\u001b[0;32m      2\u001b[0m list_name \u001b[38;5;241m=\u001b[39m []\n\u001b[1;32m----> 3\u001b[0m \u001b[38;5;28;01mfor\u001b[39;00m name \u001b[38;5;129;01min\u001b[39;00m tree\u001b[38;5;241m.\u001b[39mphylogenetic_distance_matrix()\u001b[38;5;241m.\u001b[39mdistinct_taxon_pair_iter():\n\u001b[0;32m      4\u001b[0m     \u001b[38;5;28;01mif\u001b[39;00m name[\u001b[38;5;241m0\u001b[39m] \u001b[38;5;129;01mnot\u001b[39;00m \u001b[38;5;129;01min\u001b[39;00m list_name :\n\u001b[0;32m      5\u001b[0m         list_name\u001b[38;5;241m.\u001b[39mappend(name[\u001b[38;5;241m0\u001b[39m])\n",
      "\u001b[1;31mNameError\u001b[0m: name 'tree' is not defined"
     ]
    }
   ],
   "source": [
    "#print(tree.as_ascii_plot())\n",
    "list_name = []\n",
    "for name in tree.phylogenetic_distance_matrix().distinct_taxon_pair_iter():\n",
    "    if name[0] not in list_name :\n",
    "        list_name.append(name[0])\n",
    "    elif name[1] not in list_name :\n",
    "        list_name.append(name[1])\n",
    "        #print(name)\n",
    "        \n",
    "        \n",
    "len(list_name)\n",
    "list_name[:2]"
   ]
  },
  {
   "cell_type": "code",
   "execution_count": 6,
   "id": "177c1cf6",
   "metadata": {},
   "outputs": [],
   "source": [
    "distances1 = get_distance_topology(tree1)\n",
    "distances2 = get_distance_topology(tree2)\n",
    "#distances1\n",
    "#distances2"
   ]
  },
  {
   "cell_type": "code",
   "execution_count": 8,
   "id": "81d31b7c",
   "metadata": {},
   "outputs": [
    {
     "data": {
      "text/html": [
       "<div>\n",
       "<style scoped>\n",
       "    .dataframe tbody tr th:only-of-type {\n",
       "        vertical-align: middle;\n",
       "    }\n",
       "\n",
       "    .dataframe tbody tr th {\n",
       "        vertical-align: top;\n",
       "    }\n",
       "\n",
       "    .dataframe thead th {\n",
       "        text-align: right;\n",
       "    }\n",
       "</style>\n",
       "<table border=\"1\" class=\"dataframe\">\n",
       "  <thead>\n",
       "    <tr style=\"text-align: right;\">\n",
       "      <th></th>\n",
       "      <th></th>\n",
       "      <th>distance</th>\n",
       "    </tr>\n",
       "    <tr>\n",
       "      <th>0</th>\n",
       "      <th>1</th>\n",
       "      <th></th>\n",
       "    </tr>\n",
       "  </thead>\n",
       "  <tbody>\n",
       "    <tr>\n",
       "      <th>50 x</th>\n",
       "      <th>12 a</th>\n",
       "      <td>6</td>\n",
       "    </tr>\n",
       "    <tr>\n",
       "      <th>9 b</th>\n",
       "      <th>50 x</th>\n",
       "      <td>2</td>\n",
       "    </tr>\n",
       "    <tr>\n",
       "      <th rowspan=\"2\" valign=\"top\">9 a</th>\n",
       "      <th>12 a</th>\n",
       "      <td>2</td>\n",
       "    </tr>\n",
       "    <tr>\n",
       "      <th>67 x</th>\n",
       "      <td>4</td>\n",
       "    </tr>\n",
       "    <tr>\n",
       "      <th>12 a</th>\n",
       "      <th>42 x</th>\n",
       "      <td>4</td>\n",
       "    </tr>\n",
       "    <tr>\n",
       "      <th>9 b</th>\n",
       "      <th>12 a</th>\n",
       "      <td>6</td>\n",
       "    </tr>\n",
       "    <tr>\n",
       "      <th>12 b</th>\n",
       "      <th>9 a</th>\n",
       "      <td>5</td>\n",
       "    </tr>\n",
       "    <tr>\n",
       "      <th>9 b</th>\n",
       "      <th>42 x</th>\n",
       "      <td>6</td>\n",
       "    </tr>\n",
       "    <tr>\n",
       "      <th>12 b</th>\n",
       "      <th>42 x</th>\n",
       "      <td>5</td>\n",
       "    </tr>\n",
       "    <tr>\n",
       "      <th>50 x</th>\n",
       "      <th>9 a</th>\n",
       "      <td>6</td>\n",
       "    </tr>\n",
       "    <tr>\n",
       "      <th>12 a</th>\n",
       "      <th>67 x</th>\n",
       "      <td>4</td>\n",
       "    </tr>\n",
       "    <tr>\n",
       "      <th rowspan=\"2\" valign=\"top\">9 b</th>\n",
       "      <th>67 x</th>\n",
       "      <td>6</td>\n",
       "    </tr>\n",
       "    <tr>\n",
       "      <th>12 b</th>\n",
       "      <td>3</td>\n",
       "    </tr>\n",
       "    <tr>\n",
       "      <th>9 a</th>\n",
       "      <th>42 x</th>\n",
       "      <td>4</td>\n",
       "    </tr>\n",
       "    <tr>\n",
       "      <th rowspan=\"2\" valign=\"top\">50 x</th>\n",
       "      <th>12 b</th>\n",
       "      <td>3</td>\n",
       "    </tr>\n",
       "    <tr>\n",
       "      <th>67 x</th>\n",
       "      <td>6</td>\n",
       "    </tr>\n",
       "    <tr>\n",
       "      <th>67 x</th>\n",
       "      <th>42 x</th>\n",
       "      <td>2</td>\n",
       "    </tr>\n",
       "    <tr>\n",
       "      <th>50 x</th>\n",
       "      <th>42 x</th>\n",
       "      <td>6</td>\n",
       "    </tr>\n",
       "    <tr>\n",
       "      <th>9 b</th>\n",
       "      <th>9 a</th>\n",
       "      <td>6</td>\n",
       "    </tr>\n",
       "    <tr>\n",
       "      <th rowspan=\"2\" valign=\"top\">12 b</th>\n",
       "      <th>12 a</th>\n",
       "      <td>5</td>\n",
       "    </tr>\n",
       "    <tr>\n",
       "      <th>67 x</th>\n",
       "      <td>5</td>\n",
       "    </tr>\n",
       "  </tbody>\n",
       "</table>\n",
       "</div>"
      ],
      "text/plain": [
       "           distance\n",
       "0    1             \n",
       "50 x 12 a         6\n",
       "9 b  50 x         2\n",
       "9 a  12 a         2\n",
       "     67 x         4\n",
       "12 a 42 x         4\n",
       "9 b  12 a         6\n",
       "12 b 9 a          5\n",
       "9 b  42 x         6\n",
       "12 b 42 x         5\n",
       "50 x 9 a          6\n",
       "12 a 67 x         4\n",
       "9 b  67 x         6\n",
       "     12 b         3\n",
       "9 a  42 x         4\n",
       "50 x 12 b         3\n",
       "     67 x         6\n",
       "67 x 42 x         2\n",
       "50 x 42 x         6\n",
       "9 b  9 a          6\n",
       "12 b 12 a         5\n",
       "     67 x         5"
      ]
     },
     "execution_count": 8,
     "metadata": {},
     "output_type": "execute_result"
    }
   ],
   "source": [
    "distances1"
   ]
  },
  {
   "cell_type": "code",
   "execution_count": 10,
   "id": "683db1e0",
   "metadata": {},
   "outputs": [
    {
     "data": {
      "text/plain": [
       "Index(['12 a', '12 b', '42 x', '50 x', '67 x', '9 a', '9 b'], dtype='object')"
      ]
     },
     "execution_count": 10,
     "metadata": {},
     "output_type": "execute_result"
    }
   ],
   "source": [
    "test = make_distance_matrix(distances1, True)\n",
    "taxon = test.columns[0]\n",
    "taxa = test.columns\n",
    "taxa"
   ]
  },
  {
   "cell_type": "code",
   "execution_count": null,
   "id": "cf095937",
   "metadata": {},
   "outputs": [],
   "source": []
  },
  {
   "cell_type": "code",
   "execution_count": 12,
   "id": "038f0bfe",
   "metadata": {},
   "outputs": [
    {
     "data": {
      "text/plain": [
       "2.0"
      ]
     },
     "execution_count": 12,
     "metadata": {},
     "output_type": "execute_result"
    }
   ],
   "source": [
    "test['12 a']['9 a']"
   ]
  },
  {
   "cell_type": "code",
   "execution_count": 53,
   "id": "0235a2fb",
   "metadata": {},
   "outputs": [],
   "source": [
    "common_leaves = {}\n",
    "CL = []\n",
    "paralogs = {}\n",
    "para = []\n",
    "paralogs, common_leaves = get_paralogs_variant(taxa, taxa, CL, para)\n",
    "#common_leaves = common_leaves[:5]\n",
    "\n",
    "#print(common_leaves)\n",
    "paralogs\n",
    "tired = DataFrame(paralogs, index = (paralogs['Specie']))"
   ]
  },
  {
   "cell_type": "code",
   "execution_count": 55,
   "id": "d2140c9d",
   "metadata": {},
   "outputs": [
    {
     "data": {
      "text/html": [
       "<div>\n",
       "<style scoped>\n",
       "    .dataframe tbody tr th:only-of-type {\n",
       "        vertical-align: middle;\n",
       "    }\n",
       "\n",
       "    .dataframe tbody tr th {\n",
       "        vertical-align: top;\n",
       "    }\n",
       "\n",
       "    .dataframe thead th {\n",
       "        text-align: right;\n",
       "    }\n",
       "</style>\n",
       "<table border=\"1\" class=\"dataframe\">\n",
       "  <thead>\n",
       "    <tr style=\"text-align: right;\">\n",
       "      <th></th>\n",
       "      <th>Specie</th>\n",
       "      <th>Identifier</th>\n",
       "      <th>Alias</th>\n",
       "      <th>Distance</th>\n",
       "    </tr>\n",
       "  </thead>\n",
       "  <tbody>\n",
       "    <tr>\n",
       "      <th>12</th>\n",
       "      <td>12</td>\n",
       "      <td>a</td>\n",
       "      <td></td>\n",
       "      <td>0</td>\n",
       "    </tr>\n",
       "    <tr>\n",
       "      <th>12</th>\n",
       "      <td>12</td>\n",
       "      <td>b</td>\n",
       "      <td></td>\n",
       "      <td>0</td>\n",
       "    </tr>\n",
       "  </tbody>\n",
       "</table>\n",
       "</div>"
      ],
      "text/plain": [
       "   Specie Identifier Alias  Distance\n",
       "12     12          a               0\n",
       "12     12          b               0"
      ]
     },
     "execution_count": 55,
     "metadata": {},
     "output_type": "execute_result"
    }
   ],
   "source": [
    "tired.loc['12']"
   ]
  },
  {
   "cell_type": "code",
   "execution_count": 57,
   "id": "7799fdce",
   "metadata": {},
   "outputs": [
    {
     "data": {
      "text/html": [
       "<div>\n",
       "<style scoped>\n",
       "    .dataframe tbody tr th:only-of-type {\n",
       "        vertical-align: middle;\n",
       "    }\n",
       "\n",
       "    .dataframe tbody tr th {\n",
       "        vertical-align: top;\n",
       "    }\n",
       "\n",
       "    .dataframe thead th {\n",
       "        text-align: right;\n",
       "    }\n",
       "</style>\n",
       "<table border=\"1\" class=\"dataframe\">\n",
       "  <thead>\n",
       "    <tr style=\"text-align: right;\">\n",
       "      <th></th>\n",
       "      <th>Specie</th>\n",
       "      <th>Identifier</th>\n",
       "      <th>Alias</th>\n",
       "      <th>Distance</th>\n",
       "    </tr>\n",
       "  </thead>\n",
       "  <tbody>\n",
       "    <tr>\n",
       "      <th>0</th>\n",
       "      <td>12</td>\n",
       "      <td>a</td>\n",
       "      <td></td>\n",
       "      <td>0</td>\n",
       "    </tr>\n",
       "    <tr>\n",
       "      <th>1</th>\n",
       "      <td>12</td>\n",
       "      <td>b</td>\n",
       "      <td></td>\n",
       "      <td>0</td>\n",
       "    </tr>\n",
       "  </tbody>\n",
       "</table>\n",
       "</div>"
      ],
      "text/plain": [
       "  Specie Identifier Alias  Distance\n",
       "0     12          a               0\n",
       "1     12          b               0"
      ]
     },
     "execution_count": 57,
     "metadata": {},
     "output_type": "execute_result"
    }
   ],
   "source": [
    "tired = DataFrame(paralogs)\n",
    "tired[tired['Specie'] == '12']\n",
    "#tired.replace(tired['Specie'][0], 5, regex = False)\n",
    "\n"
   ]
  },
  {
   "cell_type": "code",
   "execution_count": 152,
   "id": "cbbb157d",
   "metadata": {},
   "outputs": [],
   "source": [
    "a = ['n212', 'n257', 'n271', 'n304', 'n316', 'n317']\n",
    "b = ['n1', 'n102', 'n202', 'n211', 'n214']\n"
   ]
  },
  {
   "cell_type": "code",
   "execution_count": 58,
   "id": "51b7b3b2",
   "metadata": {},
   "outputs": [
    {
     "name": "stderr",
     "output_type": "stream",
     "text": [
      "C:\\Users\\annaa\\AppData\\Local\\Temp\\ipykernel_21816\\4002978614.py:1: UserWarning: Boolean Series key will be reindexed to match DataFrame index.\n",
      "  tired[tired['Specie'] == '12'][tired['Identifier']=='b']\n"
     ]
    },
    {
     "data": {
      "text/html": [
       "<div>\n",
       "<style scoped>\n",
       "    .dataframe tbody tr th:only-of-type {\n",
       "        vertical-align: middle;\n",
       "    }\n",
       "\n",
       "    .dataframe tbody tr th {\n",
       "        vertical-align: top;\n",
       "    }\n",
       "\n",
       "    .dataframe thead th {\n",
       "        text-align: right;\n",
       "    }\n",
       "</style>\n",
       "<table border=\"1\" class=\"dataframe\">\n",
       "  <thead>\n",
       "    <tr style=\"text-align: right;\">\n",
       "      <th></th>\n",
       "      <th>Specie</th>\n",
       "      <th>Identifier</th>\n",
       "      <th>Alias</th>\n",
       "      <th>Distance</th>\n",
       "    </tr>\n",
       "  </thead>\n",
       "  <tbody>\n",
       "    <tr>\n",
       "      <th>1</th>\n",
       "      <td>12</td>\n",
       "      <td>b</td>\n",
       "      <td></td>\n",
       "      <td>0</td>\n",
       "    </tr>\n",
       "  </tbody>\n",
       "</table>\n",
       "</div>"
      ],
      "text/plain": [
       "  Specie Identifier Alias  Distance\n",
       "1     12          b               0"
      ]
     },
     "execution_count": 58,
     "metadata": {},
     "output_type": "execute_result"
    }
   ],
   "source": [
    "tired[tired['Specie'] == '12'][tired['Identifier']=='b']"
   ]
  },
  {
   "cell_type": "code",
   "execution_count": null,
   "id": "6eca6550",
   "metadata": {},
   "outputs": [],
   "source": []
  },
  {
   "cell_type": "code",
   "execution_count": null,
   "id": "a0f9b445",
   "metadata": {},
   "outputs": [],
   "source": []
  },
  {
   "cell_type": "code",
   "execution_count": 32,
   "id": "ac747b71-4a91-4c0e-839a-71f78977c04e",
   "metadata": {},
   "outputs": [],
   "source": [
    "tree1 = dendropy.Tree.get(path='tree_test.txt', schema='newick') # or whatever relevant format if not newick\n",
    "distances1 = get_distance_dataframe(tree1)\n",
    "distances1 = make_distance_matrix(distances1, True)\n",
    "distances1 = noisify_distances(distances1)\n",
    "\n",
    "tree2 = dendropy.Tree.get(path='tree_test2.txt', schema='newick') # or whatever relevant format if not newick\n",
    "distances2 = get_distance_dataframe(tree2)\n",
    "distances2 = make_distance_matrix(distances2, True)\n"
   ]
  },
  {
   "cell_type": "code",
   "execution_count": 33,
   "id": "2f56b3a6-ef37-4fde-9741-f69c790f7177",
   "metadata": {},
   "outputs": [
    {
     "data": {
      "text/plain": [
       "['A', 'C', 'G']"
      ]
     },
     "execution_count": 33,
     "metadata": {},
     "output_type": "execute_result"
    }
   ],
   "source": [
    "common_leaves = ['A', 'C', 'G']\n",
    "# 'B'->'X', 'D'->'R', 'F'->'W', 'H'->'Z'\n",
    "common_leaves = [c for c in distances2.columns if c in distances1.columns]\n",
    "epsilon = 0\n",
    "common_leaves"
   ]
  },
  {
   "cell_type": "code",
   "execution_count": 17,
   "id": "d9fba124-fc68-4124-8692-dce211d4e5b1",
   "metadata": {},
   "outputs": [],
   "source": [
    "def baseline_method(distances1, distances2, epsilon, common_leaves):\n",
    "    # step 1 compute ratio    \n",
    "    R = get_ratio(distances1, distances2)\n",
    "    print('ratio:', R)\n",
    "    \n",
    "    # step 2 compute distances from candidate to common leaves\n",
    "    candidates2 = [c for c in distances2.columns if c not in common_leaves]\n",
    "    candidate_distances2 = distances2.loc[candidates2, common_leaves].sum(axis=1)\n",
    "    \n",
    "    candidates1 = [c for c in distances1.columns if c not in common_leaves]\n",
    "    candidate_distances1 = distances1.loc[candidates1, common_leaves].sum(axis=1)\n",
    "    \n",
    "    # step 3 compare distances adjusted with the ratio\n",
    "    candidate_distances2 = candidate_distances2 * R\n",
    "    \n",
    "    # step 4 find the closest matches\n",
    "    matches = {}\n",
    "    for candidate in candidates2:\n",
    "        d_candidate = candidate_distances2[candidate]\n",
    "        sorted_matches = (candidate_distances1 - d_candidate).abs().sort_values()        \n",
    "        matches[candidate] = sorted_matches[sorted_matches <= sorted_matches.min() + epsilon].to_dict()\n",
    "\n",
    "    return DataFrame(matches).stack().dropna().sort_values()"
   ]
  },
  {
   "cell_type": "code",
   "execution_count": 9,
   "id": "70d146e7-6348-4ff7-b2c3-fd99e619499a",
   "metadata": {},
   "outputs": [
    {
     "name": "stdout",
     "output_type": "stream",
     "text": [
      "ratio: 1.0569117647058823\n"
     ]
    },
    {
     "data": {
      "text/plain": [
       "B  R    0.531853\n",
       "   X    0.003397\n",
       "D  R    0.076853\n",
       "   X    0.451603\n",
       "   Z    0.288235\n",
       "E  W    0.150529\n",
       "   Y    0.008007\n",
       "F  W    0.055971\n",
       "   Y    0.214507\n",
       "H  R    0.140147\n",
       "   Z    0.071235\n",
       "dtype: float64"
      ]
     },
     "execution_count": 9,
     "metadata": {},
     "output_type": "execute_result"
    }
   ],
   "source": [
    "baseline_method(distances1, distances2, .5, common_leaves).sort_index()"
   ]
  },
  {
   "cell_type": "code",
   "execution_count": 10,
   "id": "980830e6-9b4e-4db0-a69a-d6ec03d9a3d6",
   "metadata": {},
   "outputs": [
    {
     "data": {
      "text/plain": [
       "['A', 'C', 'G']"
      ]
     },
     "execution_count": 10,
     "metadata": {},
     "output_type": "execute_result"
    }
   ],
   "source": [
    "common_leaves"
   ]
  },
  {
   "cell_type": "code",
   "execution_count": 11,
   "id": "9da4a5c5-09cb-4941-ba48-a589f8225d0d",
   "metadata": {},
   "outputs": [
    {
     "data": {
      "text/plain": [
       "B    2.4275\n",
       "D    2.8825\n",
       "H    3.0995\n",
       "E    4.2885\n",
       "F    4.4950\n",
       "dtype: float64"
      ]
     },
     "execution_count": 11,
     "metadata": {},
     "output_type": "execute_result"
    }
   ],
   "source": [
    "candidates1 = [c for c in distances1.columns if c not in common_leaves]\n",
    "distances1.loc[candidates1, common_leaves].sum(axis=1).sort_values()"
   ]
  },
  {
   "cell_type": "code",
   "execution_count": 12,
   "id": "e414f8a8-39a0-429a-b833-c4e75169da93",
   "metadata": {},
   "outputs": [
    {
     "data": {
      "text/plain": [
       "X    2.30\n",
       "R    2.80\n",
       "Z    3.00\n",
       "Y    4.05\n",
       "W    4.20\n",
       "dtype: float64"
      ]
     },
     "execution_count": 12,
     "metadata": {},
     "output_type": "execute_result"
    }
   ],
   "source": [
    "candidates2 = [c for c in distances2.columns if c not in common_leaves]\n",
    "distances2.loc[candidates2, common_leaves].sum(axis=1).sort_values()"
   ]
  },
  {
   "cell_type": "code",
   "execution_count": 34,
   "id": "affdf1c9-33a5-4cd6-9695-cfe2dbc9ccec",
   "metadata": {},
   "outputs": [],
   "source": [
    "# 'B'->'X', 'D'->'R', 'F'->'W', 'H'->'Z', 'E' -> 'Y'"
   ]
  },
  {
   "cell_type": "code",
   "execution_count": null,
   "id": "be6a0b47-26be-4488-bf0e-7d7da8c2b52a",
   "metadata": {},
   "outputs": [],
   "source": [
    "# Try correlation method\n",
    "# Try stats\n",
    "# Try ordering common leaf by distances from paralogs -> moyen de décision pour groupe de paralogues ou paralogues\n",
    "#     avec des distances égales/proches => pour quand on souhaite garder une topologie similaire"
   ]
  }
 ],
 "metadata": {
  "kernelspec": {
   "display_name": "Python 3 (ipykernel)",
   "language": "python",
   "name": "python3"
  },
  "language_info": {
   "codemirror_mode": {
    "name": "ipython",
    "version": 3
   },
   "file_extension": ".py",
   "mimetype": "text/x-python",
   "name": "python",
   "nbconvert_exporter": "python",
   "pygments_lexer": "ipython3",
   "version": "3.11.5"
  }
 },
 "nbformat": 4,
 "nbformat_minor": 5
}
